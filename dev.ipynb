{
 "cells": [
  {
   "cell_type": "code",
   "execution_count": 111,
   "metadata": {},
   "outputs": [],
   "source": [
    "# general data processing\n",
    "import pandas as pd\n",
    "import numpy as np\n",
    "\n",
    "# data viz\n",
    "import matplotlib.pyplot as plt\n",
    "import seaborn as sns\n",
    "\n",
    "# utils\n",
    "import pickle\n",
    "import os\n",
    "\n",
    "# pytorch framework\n",
    "import torch\n",
    "from torch import nn\n",
    "import torch.nn.functional as F\n",
    "\n",
    "from torch.utils.data import Dataset, DataLoader, random_split\n",
    "from torchvision import transforms, utils\n",
    "\n",
    "# pytorch-lightning framework\n",
    "import pytorch_lightning as pl"
   ]
  },
  {
   "cell_type": "markdown",
   "metadata": {},
   "source": [
    "# Data Loading"
   ]
  },
  {
   "cell_type": "code",
   "execution_count": 154,
   "metadata": {},
   "outputs": [
    {
     "data": {
      "text/plain": [
       "'automobile'"
      ]
     },
     "execution_count": 154,
     "metadata": {},
     "output_type": "execute_result"
    },
    {
     "data": {
      "image/png": "[encoded data removed]",
      "text/plain": [
       "<Figure size 640x480 with 1 Axes>"
      ]
     },
     "metadata": {},
     "output_type": "display_data"
    }
   ],
   "source": [
    "def unpickle(file):\n",
    "    bytes2str = lambda x: x.decode('utf-8')\n",
    "    with open(file, 'rb') as fo:\n",
    "        _dict = pickle.load(fo, encoding='bytes')\n",
    "    # transform every key from bytes to string in the keys of the dictionary\n",
    "    _dict = {bytes2str(key): value for key, value in _dict.items()}\n",
    "    return _dict\n",
    "\n",
    "def get_label_text(label_idx):\n",
    "    label_names = unpickle(\"data/cifar-10-batches-py/batches.meta\")['label_names']\n",
    "    return label_names[label_idx].decode('utf-8')\n",
    "\n",
    "data = unpickle(\"data/cifar-10-batches-py/data_batch_1\")\n",
    "\n",
    "IMAGE_INDEX=60\n",
    "image = torch.Tensor(data[\"data\"]).reshape(10000, 3, 32, 32)\n",
    "plt.imshow(image[IMAGE_INDEX].permute(1, 2, 0).numpy().astype(np.uint8))\n",
    "get_label_text(data[\"labels\"][IMAGE_INDEX])"
   ]
  },
  {
   "cell_type": "markdown",
   "metadata": {},
   "source": [
    "# Data Processing"
   ]
  },
  {
   "cell_type": "code",
   "execution_count": 156,
   "metadata": {},
   "outputs": [
    {
     "name": "stdout",
     "output_type": "stream",
     "text": [
      "torch.Size([30, 32, 32, 3])\n",
      "torch.Size([30, 1])\n",
      "dog\n"
     ]
    },
    {
     "data": {
      "image/png": "[encoded data removed]",
      "text/plain": [
       "<Figure size 640x480 with 1 Axes>"
      ]
     },
     "metadata": {},
     "output_type": "display_data"
    }
   ],
   "source": [
    "class ToTensor(object):\n",
    "    def __call__(self, array):\n",
    "        return torch.from_numpy(array).to(torch.uint8)\n",
    "\n",
    "class ReshapeAdjust(object):\n",
    "    def __call__(self, tensor):\n",
    "        tensor = (\n",
    "            tensor\n",
    "            .reshape(3, 32, 32)\n",
    "            .permute(1, 2, 0)\n",
    "        )\n",
    "        return tensor\n",
    "    \n",
    "def unpickle(file):\n",
    "    bytes2str = lambda x: x.decode('utf-8')\n",
    "    with open(file, 'rb') as fo:\n",
    "        _dict = pickle.load(fo, encoding='bytes')\n",
    "    # transform every key from bytes to string in the keys of the dictionary\n",
    "    _dict = {bytes2str(key): value for key, value in _dict.items()}\n",
    "    return _dict\n",
    "\n",
    "class CIFAR10(Dataset):\n",
    "    def __init__(self, folderpath:str, transform=None, target_transform=None, train=True):\n",
    "        self.folderpath = folderpath\n",
    "        full_training_data, test_data = self.get_data_dictionary(self.folderpath)\n",
    "        self.data = full_training_data if train else test_data\n",
    "        self.transform = transform\n",
    "        self.target_transform = target_transform\n",
    "\n",
    "    @staticmethod\n",
    "    def get_data_dictionary(folderpath:str) -> tuple:\n",
    "        full_training_data = {\n",
    "            \"features\": [],\n",
    "            \"labels\": []\n",
    "        }\n",
    "        test_data = {\n",
    "            \"features\": [],\n",
    "            \"labels\": []\n",
    "        }\n",
    "        for file in os.listdir(folderpath):\n",
    "            if not file.endswith(\".meta\") and not file.endswith(\".html\"):\n",
    "                file = os.path.join(folderpath, file)\n",
    "                data = unpickle(file)\n",
    "                data = {key: value for key, value in data.items() if key in [\"data\", \"labels\"]}\n",
    "                if \"test\" in file:\n",
    "                    test_data[\"features\"].append(data[\"data\"])\n",
    "                    test_data[\"labels\"].append(data[\"labels\"])\n",
    "                else:\n",
    "                    full_training_data[\"features\"].append(data[\"data\"])\n",
    "                    full_training_data[\"labels\"].append(data[\"labels\"])\n",
    "        \n",
    "        # concatenate all the data\n",
    "        full_training_data[\"features\"] = np.concatenate(full_training_data[\"features\"])\n",
    "        full_training_data[\"labels\"] = np.concatenate(full_training_data[\"labels\"]).reshape(-1, 1)\n",
    "\n",
    "        test_data[\"features\"] = np.concatenate(test_data[\"features\"])\n",
    "        test_data[\"labels\"] = np.concatenate(test_data[\"labels\"]).reshape(-1, 1)\n",
    "\n",
    "\n",
    "        return full_training_data, test_data\n",
    "\n",
    "    def __len__(self) -> int:\n",
    "        return self.data[\"labels\"].shape[0]\n",
    "    \n",
    "    def __getitem__(self, idx:int) -> dict:\n",
    "        sample = {}\n",
    "\n",
    "        sample['x'] = self.data[\"features\"][idx]\n",
    "        sample['y'] = self.data[\"labels\"][idx]\n",
    "\n",
    "        sample['x'] = self.transform(sample['x']) if self.transform else sample['x']\n",
    "        sample['y'] = self.target_transform(sample['y']) if self.target_transform else sample['y']\n",
    "\n",
    "        return sample\n",
    "\n",
    "class CIFAR10DataModule(pl.LightningDataModule):\n",
    "    def __init__(\n",
    "            self,\n",
    "            folderpath:str, batch_size:int=32, \n",
    "            num_workers:int=4, train_val_split:float=0.9, \n",
    "            transform=None, target_transform=None\n",
    "    ):\n",
    "        super().__init__()\n",
    "        self.folderpath = folderpath\n",
    "        self.batch_size = batch_size\n",
    "        self.num_workers = num_workers\n",
    "        self.train_val_split = train_val_split\n",
    "        self.transform = transform\n",
    "        self.target_transform = target_transform\n",
    "    \n",
    "    def setup(self, stage=None):\n",
    "        full_training_data = CIFAR10(self.folderpath, self.transform, train=True)\n",
    "        self.train_dataset, self.val_dataset = random_split(\n",
    "            full_training_data, [self.train_val_split, 1-self.train_val_split]\n",
    "        )\n",
    "        self.test_dataset = CIFAR10(self.folderpath, self.transform, train=False)\n",
    "    \n",
    "    def train_dataloader(self):\n",
    "        return DataLoader(self.train_dataset, batch_size=self.batch_size, num_workers=self.num_workers, shuffle=True)\n",
    "    \n",
    "    def test_dataloader(self):\n",
    "        return DataLoader(self.test_dataset, batch_size=self.batch_size, num_workers=self.num_workers, shuffle=False)\n",
    "    \n",
    "    def val_dataloader(self):\n",
    "        return DataLoader(self.val_dataset, batch_size=self.batch_size, num_workers=self.num_workers, shuffle=False)\n",
    "\n",
    "# test datamodule\n",
    "dm = CIFAR10DataModule(\n",
    "    \"data/cifar-10-batches-py\",\n",
    "    batch_size=30, num_workers=0, train_val_split=0.9,\n",
    "    transform=transforms.Compose([ToTensor(), ReshapeAdjust()]),\n",
    "    target_transform=ToTensor()\n",
    ")\n",
    "dm.setup()\n",
    "train_loader = dm.train_dataloader()\n",
    "val_loader = dm.val_dataloader()\n",
    "test_loader = dm.test_dataloader()\n",
    "\n",
    "# test dataloader\n",
    "for batch in train_loader:\n",
    "    print(batch['x'].shape)\n",
    "    print(batch['y'].shape)\n",
    "    \n",
    "    print(get_label_text(batch['y'][0].item()))\n",
    "    plt.imshow(batch['x'][0].numpy().astype(np.uint8))\n",
    "\n",
    "    break"
   ]
  },
  {
   "cell_type": "markdown",
   "metadata": {},
   "source": [
    "# Model Building"
   ]
  }
 ],
 "metadata": {
  "kernelspec": {
   "display_name": "venv",
   "language": "python",
   "name": "python3"
  },
  "language_info": {
   "codemirror_mode": {
    "name": "ipython",
    "version": 3
   },
   "file_extension": ".py",
   "mimetype": "text/x-python",
   "name": "python",
   "nbconvert_exporter": "python",
   "pygments_lexer": "ipython3",
   "version": "3.10.7"
  },
  "orig_nbformat": 4
 },
 "nbformat": 4,
 "nbformat_minor": 2
}
